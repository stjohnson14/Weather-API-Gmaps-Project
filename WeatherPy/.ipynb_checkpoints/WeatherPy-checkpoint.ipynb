{
 "cells": [
  {
   "cell_type": "code",
   "execution_count": null,
   "metadata": {},
   "outputs": [],
   "source": [
    "# WeatherPy\n",
    "----\n",
    "\n",
    "#### Note\n",
    "* Instructions have been included for each segment. You do not have to follow them exactly, but they are included to help you think through the steps."
   ]
  },
  {
   "cell_type": "code",
   "execution_count": 1,
   "metadata": {
    "scrolled": true
   },
   "outputs": [],
   "source": [
    "# Dependencies and Setup\n",
    "import matplotlib.pyplot as plt\n",
    "import pandas as pd\n",
    "import numpy as np\n",
    "import requests\n",
    "import time\n",
    "from scipy.stats import linregress\n",
    "import scipy.stats as st\n",
    "import pprint\n",
    "\n",
    "# Import API key\n",
    "from api_keys import weather_api_key\n",
    "\n",
    "# Incorporated citipy to determine city based on latitude and longitude\n",
    "from citipy import citipy\n",
    "\n",
    "# Output File (CSV)\n",
    "output_data_file = \"output_data/cities.csv\"\n",
    "\n",
    "# Range of latitudes and longitudes\n",
    "lat_range = (-90, 90)\n",
    "lng_range = (-180, 180)"
   ]
  },
  {
   "cell_type": "code",
   "execution_count": null,
   "metadata": {},
   "outputs": [],
   "source": [
    "## Generate Cities List"
   ]
  },
  {
   "cell_type": "code",
   "execution_count": 2,
   "metadata": {},
   "outputs": [
    {
     "name": "stdout",
     "output_type": "stream",
     "text": [
      "<class 'list'>\n"
     ]
    }
   ],
   "source": [
    "# List for holding lat_lngs and cities\n",
    "lat_lngs = []\n",
    "cities = []\n",
    "\n",
    "# Create a set of random lat and lng combinations\n",
    "lats = np.random.uniform(lat_range[0], lat_range[1], size=1500)\n",
    "lngs = np.random.uniform(lng_range[0], lng_range[1], size=1500)\n",
    "lat_lngs = zip(lats, lngs)\n",
    "\n",
    "# Identify nearest city for each lat, lng combination\n",
    "for lat_lng in lat_lngs:\n",
    "    city = citipy.nearest_city(lat_lng[0], lat_lng[1]).city_name\n",
    "    \n",
    "    # If the city is unique, then add it to a our cities list\n",
    "    if city not in cities:\n",
    "        cities.append(city)\n",
    "\n",
    "# Print the city count to confirm sufficient count\n",
    "print(type(cities))"
   ]
  },
  {
   "cell_type": "code",
   "execution_count": null,
   "metadata": {},
   "outputs": [],
   "source": [
    "### Perform API Calls\n",
    "* Perform a weather check on each city using a series of successive API calls.\n",
    "* Include a print log of each city as it'sbeing processed (with the city number and city name).\n"
   ]
  },
  {
   "cell_type": "code",
   "execution_count": 3,
   "metadata": {
    "scrolled": true
   },
   "outputs": [],
   "source": [
    "# Save config information\n",
    "url = \"http://api.openweathermap.org/data/2.5/weather?units=Imperial&APPID=\"\n",
    "\n",
    "\n",
    "# Build query URL\n",
    "query_url = f\"{url}{weather_api_key}&q=\"\n"
   ]
  },
  {
   "cell_type": "code",
   "execution_count": 4,
   "metadata": {},
   "outputs": [
    {
     "ename": "NameError",
     "evalue": "name 'weather_response' is not defined",
     "output_type": "error",
     "traceback": [
      "\u001b[1;31m---------------------------------------------------------------------------\u001b[0m",
      "\u001b[1;31mNameError\u001b[0m                                 Traceback (most recent call last)",
      "\u001b[1;32m<ipython-input-4-c805f1827548>\u001b[0m in \u001b[0;36m<module>\u001b[1;34m\u001b[0m\n\u001b[1;32m----> 1\u001b[1;33m \u001b[0mweather_response\u001b[0m\u001b[1;33m.\u001b[0m\u001b[0mhead\u001b[0m\u001b[1;33m(\u001b[0m\u001b[1;33m)\u001b[0m\u001b[1;33m\u001b[0m\u001b[1;33m\u001b[0m\u001b[0m\n\u001b[0m",
      "\u001b[1;31mNameError\u001b[0m: name 'weather_response' is not defined"
     ]
    }
   ],
   "source": [
    "weather_response.head()\n"
   ]
  },
  {
   "cell_type": "code",
   "execution_count": 5,
   "metadata": {},
   "outputs": [
    {
     "data": {
      "text/plain": [
       "616"
      ]
     },
     "execution_count": 5,
     "metadata": {},
     "output_type": "execute_result"
    }
   ],
   "source": [
    "len(cities)\n"
   ]
  },
  {
   "cell_type": "code",
   "execution_count": 6,
   "metadata": {
    "scrolled": true
   },
   "outputs": [
    {
     "name": "stdout",
     "output_type": "stream",
     "text": [
      "albany\n",
      "kaeo\n",
      "barrow\n",
      "carnarvon\n",
      "qaanaaq\n",
      "cherskiy\n",
      "new norfolk\n",
      "mae hong son\n",
      "tilichiki\n",
      "chake chake\n",
      "castro\n",
      "havelock\n",
      "eureka\n",
      "hobart\n",
      "arrecife\n",
      "east london\n",
      "faya\n",
      "katsuura\n",
      "chuy\n",
      "busselton\n",
      "bluff\n",
      "bathsheba\n",
      "avarua\n",
      "magadan\n",
      "narsaq\n",
      "oleksandrivka\n",
      "hermanus\n",
      "longyearbyen\n",
      "punta arenas\n",
      "tuktoyaktuk\n",
      "lebu\n",
      "mitchell\n",
      "umzimvubu\n",
      "City not valid for some dumb reason\n",
      "khovu-aksy\n",
      "puerto ayora\n",
      "shelburne\n",
      "seryshevo\n",
      "vaitupu\n",
      "City not valid for some dumb reason\n",
      "saint-pierre\n",
      "sentyabrskiy\n",
      "City not valid for some dumb reason\n",
      "georgetown\n",
      "asau\n",
      "luderitz\n",
      "ushuaia\n",
      "port elizabeth\n",
      "codrington\n",
      "marsa matruh\n",
      "atuona\n",
      "yeppoon\n",
      "jining\n",
      "nileshwar\n",
      "pisco\n",
      "taolanaro\n",
      "City not valid for some dumb reason\n",
      "aketi\n",
      "iranshahr\n",
      "minsk\n",
      "green river\n",
      "tiksi\n",
      "yerbogachen\n",
      "sorvag\n",
      "City not valid for some dumb reason\n",
      "rikitea\n",
      "meulaboh\n",
      "mandalgovi\n",
      "bengkulu\n",
      "samusu\n",
      "City not valid for some dumb reason\n",
      "lagunas\n",
      "aklavik\n",
      "mount gambier\n",
      "lusambo\n",
      "wajima\n",
      "muriwai beach\n",
      "bredasdorp\n",
      "walvis bay\n",
      "yellowknife\n",
      "ballina\n",
      "mahebourg\n",
      "cape town\n",
      "kloulklubed\n",
      "victor harbor\n",
      "diamantino\n",
      "tumannyy\n",
      "City not valid for some dumb reason\n",
      "kindu\n",
      "mattru\n",
      "kruisfontein\n",
      "natitingou\n",
      "fayaoue\n",
      "swinoujscie\n",
      "hithadhoo\n",
      "kitgum\n",
      "corrales\n",
      "hofn\n",
      "esso\n",
      "klaksvik\n",
      "vaini\n",
      "fare\n",
      "ponta do sol\n",
      "simpang\n",
      "moerai\n",
      "mergui\n",
      "City not valid for some dumb reason\n",
      "port macquarie\n",
      "teahupoo\n",
      "tsihombe\n",
      "City not valid for some dumb reason\n",
      "itarema\n",
      "mount isa\n",
      "pevek\n",
      "mataura\n",
      "coihaique\n",
      "santa marta\n",
      "sungaipenuh\n",
      "saint-philippe\n",
      "butaritari\n",
      "tautira\n",
      "honningsvag\n",
      "rio grande\n",
      "port-gentil\n",
      "chokurdakh\n",
      "kodiak\n",
      "hilo\n",
      "phan thiet\n",
      "grand river south east\n",
      "City not valid for some dumb reason\n",
      "marcona\n",
      "City not valid for some dumb reason\n",
      "jamestown\n",
      "husavik\n",
      "nikolskoye\n",
      "saldanha\n",
      "praia\n",
      "suvorovskaya\n",
      "sinnamary\n",
      "along\n",
      "gisborne\n",
      "nandyal\n",
      "vardo\n",
      "excelsior springs\n",
      "kapoeta\n",
      "cockburn town\n",
      "yumen\n",
      "methoni\n",
      "chernyshevskiy\n",
      "college\n",
      "marsh harbour\n",
      "mys shmidta\n",
      "City not valid for some dumb reason\n",
      "sola\n",
      "saint-ambroise\n",
      "port alfred\n",
      "north bend\n",
      "tabou\n",
      "batagay\n",
      "bambous virieux\n",
      "san patricio\n",
      "lesosibirsk\n",
      "swan hill\n",
      "andenes\n",
      "sahrak\n",
      "City not valid for some dumb reason\n",
      "natal\n",
      "okha\n",
      "tasiilaq\n",
      "kiunga\n",
      "grindavik\n",
      "yulara\n",
      "kapaa\n",
      "dalby\n",
      "linxia\n",
      "tabiauea\n",
      "City not valid for some dumb reason\n",
      "dikson\n",
      "el alto\n",
      "ribeira grande\n",
      "mar del plata\n",
      "sao pedro da cadeira\n",
      "san angelo\n",
      "esperance\n",
      "solnechnyy\n",
      "khasan\n",
      "kavieng\n",
      "atoyac\n",
      "phonhong\n",
      "faanui\n",
      "hanna\n",
      "haines junction\n",
      "qaqortoq\n",
      "kavaratti\n",
      "paungde\n",
      "muscatine\n",
      "pak phanang\n",
      "thompson\n",
      "westpunt\n",
      "City not valid for some dumb reason\n",
      "letterkenny\n",
      "lebanon\n",
      "ormond beach\n",
      "barentsburg\n",
      "City not valid for some dumb reason\n",
      "poltavka\n",
      "amderma\n",
      "City not valid for some dumb reason\n",
      "attawapiskat\n",
      "City not valid for some dumb reason\n",
      "la palma\n",
      "iquique\n",
      "bolungarvik\n",
      "City not valid for some dumb reason\n",
      "hasaki\n",
      "kisanga\n",
      "bandarbeyla\n",
      "chepareria\n",
      "krivogastani\n",
      "moengo\n",
      "catumbela\n",
      "sitka\n",
      "paamiut\n",
      "leningradskiy\n",
      "biak\n",
      "bahile\n",
      "saint-augustin\n",
      "totma\n",
      "kibre mengist\n",
      "iqaluit\n",
      "laguna\n",
      "nhulunbuy\n",
      "buala\n",
      "port augusta\n",
      "thunder bay\n",
      "saskylakh\n",
      "khatanga\n",
      "shakhunya\n",
      "tomatlan\n",
      "illoqqortoormiut\n",
      "City not valid for some dumb reason\n",
      "kailua\n",
      "pangody\n",
      "palabuhanratu\n",
      "City not valid for some dumb reason\n",
      "gizo\n",
      "kahului\n",
      "koudougou\n",
      "vancouver\n",
      "padang\n",
      "bethel\n",
      "goundam\n",
      "ustka\n",
      "belushya guba\n",
      "City not valid for some dumb reason\n",
      "lakselv\n",
      "eldikan\n",
      "City not valid for some dumb reason\n",
      "fuyang\n",
      "juneau\n",
      "ayia marina\n",
      "shache\n",
      "nemuro\n",
      "yoichi\n",
      "puro\n",
      "byron bay\n",
      "hihifo\n",
      "City not valid for some dumb reason\n",
      "muros\n",
      "lompoc\n",
      "praia da vitoria\n",
      "altamont\n",
      "saint-louis\n",
      "severo-kurilsk\n",
      "takoradi\n",
      "yirol\n",
      "City not valid for some dumb reason\n",
      "atyrau\n",
      "ertil\n",
      "humaita\n",
      "goderich\n",
      "penticton\n",
      "dharchula\n",
      "karpogory\n",
      "vestmannaeyjar\n",
      "safwah\n",
      "City not valid for some dumb reason\n",
      "acapulco\n",
      "lorengau\n",
      "cidreira\n",
      "tuatapere\n",
      "gorontalo\n",
      "shimoda\n",
      "la crosse\n",
      "cabra\n",
      "khorramshahr\n",
      "sur\n",
      "rosetta\n",
      "srednekolymsk\n",
      "dubbo\n",
      "san cristobal\n",
      "doka\n",
      "saint-paul\n",
      "ust-kuyga\n",
      "harper\n",
      "haysville\n",
      "plettenberg bay\n",
      "vao\n",
      "jawhar\n",
      "richards bay\n",
      "midland\n",
      "saint augustine\n",
      "bombay\n",
      "salinas\n",
      "guerrero negro\n",
      "mweka\n",
      "grivenskaya\n",
      "talnakh\n",
      "linjiang\n",
      "kaitangata\n",
      "saint-prosper\n",
      "payo\n",
      "taltal\n",
      "usinsk\n",
      "kutum\n",
      "merke\n",
      "lazaro cardenas\n",
      "pochutla\n",
      "nizhneyansk\n",
      "City not valid for some dumb reason\n",
      "koumac\n",
      "voh\n",
      "provideniya\n",
      "mujiayingzi\n",
      "raahe\n",
      "darlowo\n",
      "bulawayo\n",
      "saint george\n",
      "barreiras\n",
      "chumphon\n",
      "maraba\n",
      "kyra\n",
      "nardaran\n",
      "berberati\n",
      "jiayuguan\n",
      "galveston\n",
      "palmer\n",
      "vyazemskiy\n",
      "hobyo\n",
      "furukawa\n",
      "yenotayevka\n",
      "vila velha\n",
      "miandrivazo\n",
      "tiarei\n",
      "thinadhoo\n",
      "axim\n",
      "wahran\n",
      "City not valid for some dumb reason\n",
      "morgan city\n",
      "sonoma\n",
      "clyde river\n",
      "pacific grove\n",
      "sioux lookout\n",
      "igarka\n",
      "samarai\n",
      "anloga\n",
      "broken hill\n",
      "okhotsk\n",
      "ozgon\n",
      "City not valid for some dumb reason\n",
      "constitucion\n",
      "comodoro rivadavia\n",
      "athabasca\n",
      "ishigaki\n",
      "port blair\n",
      "ahipara\n",
      "yar-sale\n",
      "nome\n",
      "waitati\n",
      "porto torres\n",
      "zarubino\n",
      "le port\n",
      "sao joao da barra\n",
      "enderby\n",
      "xining\n",
      "okitipupa\n",
      "quelimane\n",
      "lata\n",
      "milkovo\n",
      "yarkovo\n",
      "luena\n",
      "zhangye\n",
      "aranos\n",
      "manyana\n",
      "grand-lahou\n",
      "norman wells\n",
      "pontianak\n",
      "sa kaeo\n",
      "sokolo\n",
      "njombe\n",
      "aksarka\n",
      "hendrina\n",
      "panino\n",
      "makhinjauri\n",
      "xinqing\n",
      "port pirie\n",
      "rudkobing\n",
      "don sak\n",
      "carahue\n",
      "riyadh\n",
      "auki\n",
      "sao miguel do araguaia\n",
      "grand gaube\n",
      "chenghai\n",
      "wewak\n",
      "xianyang\n",
      "upernavik\n",
      "gao\n",
      "dawlatabad\n",
      "umm kaddadah\n",
      "mehran\n",
      "saint-francois\n",
      "santa maria\n",
      "bud\n",
      "touros\n",
      "hirara\n",
      "aguilas\n",
      "kununurra\n",
      "kaka\n",
      "eldorado\n",
      "paramonga\n",
      "san andres\n",
      "poum\n",
      "ketchikan\n",
      "jerantut\n",
      "kuching\n",
      "makung\n",
      "City not valid for some dumb reason\n",
      "martaban\n",
      "udachnyy\n",
      "luxor\n",
      "nouadhibou\n",
      "lerwick\n",
      "maniitsoq\n",
      "half moon bay\n",
      "mardin\n",
      "bejar\n",
      "los llanos de aridane\n",
      "storm lake\n",
      "kotelnikovo\n",
      "kaiyuan\n",
      "namibe\n",
      "havoysund\n",
      "arcos de la frontera\n",
      "sarahan\n",
      "tabory\n",
      "marsabit\n",
      "paita\n",
      "jalu\n",
      "ilulissat\n",
      "margate\n",
      "urucara\n",
      "kozhva\n",
      "hami\n",
      "vallentuna\n",
      "nanortalik\n",
      "kedrovyy\n",
      "suntar\n",
      "honiara\n",
      "mehamn\n",
      "parola\n",
      "noumea\n",
      "bonavista\n",
      "airai\n",
      "jatai\n",
      "fort saint james\n",
      "torbay\n",
      "santa cruz\n",
      "belaya kholunitsa\n",
      "terrace\n",
      "mabaruma\n",
      "ust-ilimsk\n",
      "denpasar\n",
      "emba\n",
      "weiser\n",
      "rawson\n",
      "kurmanayevka\n",
      "souillac\n",
      "calabar\n",
      "paciran\n",
      "dzhebariki-khaya\n",
      "mzimba\n",
      "peterhead\n",
      "mogadishu\n",
      "inhambane\n",
      "carbonia\n",
      "bokspits\n",
      "City not valid for some dumb reason\n",
      "muisne\n",
      "flinders\n",
      "victoria\n",
      "vanavara\n",
      "dzilam gonzalez\n",
      "mazamet\n",
      "konosha\n",
      "puri\n",
      "isangel\n",
      "laviana\n",
      "isla vista\n",
      "bodo\n",
      "cassilandia\n",
      "bandundu\n",
      "dezful\n",
      "lanzhou\n",
      "cabo san lucas\n",
      "camacha\n",
      "coahuayana\n",
      "general pico\n",
      "santa rosa\n",
      "seoul\n",
      "winnemucca\n",
      "ayan\n",
      "chicama\n",
      "karratha\n",
      "pilar\n",
      "nizhnyaya omka\n",
      "atar\n",
      "colquechaca\n",
      "arraial do cabo\n",
      "elko\n",
      "avrille\n",
      "alindao\n",
      "superior\n",
      "sauca\n",
      "chemin grenier\n",
      "putai\n",
      "santa fe\n",
      "tateyama\n",
      "tezu\n",
      "ust-kamchatsk\n",
      "City not valid for some dumb reason\n",
      "ancud\n",
      "cerea\n",
      "namwala\n",
      "portland\n",
      "ipixuna\n",
      "inderborskiy\n",
      "City not valid for some dumb reason\n",
      "karasjok\n",
      "banda aceh\n",
      "bargal\n",
      "City not valid for some dumb reason\n",
      "panaba\n",
      "catamarca\n",
      "berlevag\n",
      "ixtapa\n",
      "kalabagh\n",
      "rocha\n",
      "tinguindin\n",
      "alotau\n",
      "City not valid for some dumb reason\n",
      "lavrentiya\n",
      "mayo\n",
      "cranbrook\n",
      "maceio\n",
      "berdigestyakh\n",
      "maragogi\n",
      "mount pleasant\n",
      "floro\n",
      "raudeberg\n",
      "togul\n",
      "balta\n",
      "kahama\n",
      "sidi ali\n",
      "luganville\n",
      "bilma\n",
      "high rock\n",
      "karaul\n",
      "City not valid for some dumb reason\n",
      "baiyin\n",
      "lieksa\n",
      "mount hagen\n",
      "asayita\n",
      "City not valid for some dumb reason\n",
      "kuliyapitiya\n",
      "erhlin\n",
      "City not valid for some dumb reason\n",
      "naze\n",
      "sao felix do xingu\n",
      "wakkanai\n",
      "kamenskoye\n",
      "City not valid for some dumb reason\n",
      "agadir\n",
      "nizwa\n",
      "liberal\n",
      "monchegorsk\n",
      "jumla\n",
      "fergus falls\n",
      "gamba\n",
      "paris\n",
      "sidi qasim\n",
      "City not valid for some dumb reason\n",
      "tecpan\n",
      "manaure\n",
      "antofagasta\n",
      "york\n",
      "chapais\n",
      "saint-leu\n",
      "mirina\n",
      "City not valid for some dumb reason\n",
      "coquimbo\n",
      "vila franca do campo\n",
      "narrabri\n",
      "sanski most\n",
      "hamilton\n",
      "mildura\n",
      "nalut\n",
      "boshnyakovo\n",
      "geraldton\n",
      "bismarck\n",
      "harwich\n",
      "te anau\n",
      "lagoa\n",
      "aasiaat\n",
      "ipero\n",
      "lubango\n",
      "rio claro\n",
      "pangai\n",
      "parana\n",
      "vaasa\n",
      "port hueneme\n",
      "northam\n",
      "inuvik\n",
      "ormara\n",
      "olinda\n",
      "lolua\n",
      "City not valid for some dumb reason\n",
      "sumenep\n",
      "oranjestad\n",
      "morondava\n",
      "huron\n",
      "broome\n",
      "kuybyshevo\n",
      "baykit\n",
      "jiuquan\n",
      "necochea\n",
      "susanville\n",
      "aflu\n",
      "City not valid for some dumb reason\n",
      "khandyga\n",
      "korla\n",
      "russell\n",
      "ziarat\n",
      "platanos\n",
      "khani\n",
      "wuda\n",
      "saint anthony\n",
      "sambir\n",
      "rungata\n",
      "City not valid for some dumb reason\n",
      "Cities Complete\n"
     ]
    }
   ],
   "source": [
    "name = []\n",
    "number = []\n",
    "lat = []\n",
    "lng =[]\n",
    "temp = []\n",
    "humidity = []\n",
    "cloudiness = []\n",
    "wind_speed = []\n",
    "country = []\n",
    "\n",
    "\n",
    "# Loop through the list of cities and perform a request for data on each\n",
    "for city in cities:\n",
    "    try:\n",
    "        print(city)\n",
    "        weather_response = requests.get(query_url + city).json()\n",
    "        lat.append(weather_response['coord']['lat'])\n",
    "        country.append(weather_response['sys']['country'])\n",
    "        lng.append(weather_response['coord']['lon'])\n",
    "        temp.append(weather_response['main']['temp'])\n",
    "        humidity.append(weather_response['main']['humidity'])\n",
    "        cloudiness.append(weather_response['clouds']['all'])\n",
    "        wind_speed.append(weather_response['wind']['speed'])\n",
    "        name.append(weather_response['name'])\n",
    "        number.append(weather_response['id'])\n",
    "    except KeyError:\n",
    "        print(\"City not valid for some dumb reason\")\n",
    "        \n",
    "print(\"Cities Complete\")\n",
    "  \n",
    "   "
   ]
  },
  {
   "cell_type": "code",
   "execution_count": 7,
   "metadata": {},
   "outputs": [
    {
     "name": "stdout",
     "output_type": "stream",
     "text": [
      "572\n"
     ]
    }
   ],
   "source": [
    "print(len(name))"
   ]
  },
  {
   "cell_type": "code",
   "execution_count": 8,
   "metadata": {},
   "outputs": [],
   "source": [
    "### Convert Raw Data to DataFrame\n",
    "weather_dict = {\n",
    "    \"City Name\": name,\n",
    "    \"City Number\": number,\n",
    "    \"Longitude\": lng,\n",
    "    \"Country\": country,\n",
    "    \"Latitude\": lat,\n",
    "    \"Temperature\": temp,\n",
    "    \"Humidity\": humidity,\n",
    "    \"Cloudiness\": cloudiness,\n",
    "    \"Wind Speed\": wind_speed\n",
    "}\n",
    "weather_df = pd.DataFrame(weather_dict)\n",
    "weather_df\n",
    "\n",
    "# * Export the city data into a .csv.\n",
    "weather_df.to_csv('weather_output.csv')\n",
    "# * Display the DataFrame"
   ]
  },
  {
   "cell_type": "code",
   "execution_count": 9,
   "metadata": {},
   "outputs": [
    {
     "data": {
      "text/html": [
       "<div>\n",
       "<style scoped>\n",
       "    .dataframe tbody tr th:only-of-type {\n",
       "        vertical-align: middle;\n",
       "    }\n",
       "\n",
       "    .dataframe tbody tr th {\n",
       "        vertical-align: top;\n",
       "    }\n",
       "\n",
       "    .dataframe thead th {\n",
       "        text-align: right;\n",
       "    }\n",
       "</style>\n",
       "<table border=\"1\" class=\"dataframe\">\n",
       "  <thead>\n",
       "    <tr style=\"text-align: right;\">\n",
       "      <th></th>\n",
       "      <th>City Name</th>\n",
       "      <th>City Number</th>\n",
       "      <th>Longitude</th>\n",
       "      <th>Country</th>\n",
       "      <th>Latitude</th>\n",
       "      <th>Temperature</th>\n",
       "      <th>Humidity</th>\n",
       "      <th>Cloudiness</th>\n",
       "      <th>Wind Speed</th>\n",
       "    </tr>\n",
       "  </thead>\n",
       "  <tbody>\n",
       "    <tr>\n",
       "      <th>0</th>\n",
       "      <td>Albany</td>\n",
       "      <td>5106841</td>\n",
       "      <td>-73.9662</td>\n",
       "      <td>US</td>\n",
       "      <td>42.6001</td>\n",
       "      <td>80.37</td>\n",
       "      <td>75</td>\n",
       "      <td>60</td>\n",
       "      <td>1.99</td>\n",
       "    </tr>\n",
       "    <tr>\n",
       "      <th>1</th>\n",
       "      <td>Kaeo</td>\n",
       "      <td>2189343</td>\n",
       "      <td>173.7833</td>\n",
       "      <td>NZ</td>\n",
       "      <td>-35.1000</td>\n",
       "      <td>57.33</td>\n",
       "      <td>97</td>\n",
       "      <td>32</td>\n",
       "      <td>9.42</td>\n",
       "    </tr>\n",
       "    <tr>\n",
       "      <th>2</th>\n",
       "      <td>Barrow</td>\n",
       "      <td>5880054</td>\n",
       "      <td>-156.7887</td>\n",
       "      <td>US</td>\n",
       "      <td>71.2906</td>\n",
       "      <td>44.62</td>\n",
       "      <td>92</td>\n",
       "      <td>90</td>\n",
       "      <td>12.66</td>\n",
       "    </tr>\n",
       "    <tr>\n",
       "      <th>3</th>\n",
       "      <td>Carnarvon</td>\n",
       "      <td>2074865</td>\n",
       "      <td>113.6333</td>\n",
       "      <td>AU</td>\n",
       "      <td>-24.8667</td>\n",
       "      <td>51.87</td>\n",
       "      <td>74</td>\n",
       "      <td>0</td>\n",
       "      <td>6.91</td>\n",
       "    </tr>\n",
       "    <tr>\n",
       "      <th>4</th>\n",
       "      <td>Qaanaaq</td>\n",
       "      <td>3831208</td>\n",
       "      <td>-69.3632</td>\n",
       "      <td>GL</td>\n",
       "      <td>77.4840</td>\n",
       "      <td>40.53</td>\n",
       "      <td>71</td>\n",
       "      <td>80</td>\n",
       "      <td>5.68</td>\n",
       "    </tr>\n",
       "  </tbody>\n",
       "</table>\n",
       "</div>"
      ],
      "text/plain": [
       "   City Name  City Number  Longitude Country  Latitude  Temperature  Humidity  \\\n",
       "0     Albany      5106841   -73.9662      US   42.6001        80.37        75   \n",
       "1       Kaeo      2189343   173.7833      NZ  -35.1000        57.33        97   \n",
       "2     Barrow      5880054  -156.7887      US   71.2906        44.62        92   \n",
       "3  Carnarvon      2074865   113.6333      AU  -24.8667        51.87        74   \n",
       "4    Qaanaaq      3831208   -69.3632      GL   77.4840        40.53        71   \n",
       "\n",
       "   Cloudiness  Wind Speed  \n",
       "0          60        1.99  \n",
       "1          32        9.42  \n",
       "2          90       12.66  \n",
       "3           0        6.91  \n",
       "4          80        5.68  "
      ]
     },
     "execution_count": 9,
     "metadata": {},
     "output_type": "execute_result"
    }
   ],
   "source": [
    "weather_df.head()"
   ]
  },
  {
   "cell_type": "code",
   "execution_count": null,
   "metadata": {},
   "outputs": [],
   "source": [
    "## Inspect the data and remove the cities where the humidity > 100%.\n",
    "----\n",
    "Skip this step if there are no cities that have humidity > 100%. "
   ]
  },
  {
   "cell_type": "code",
   "execution_count": null,
   "metadata": {},
   "outputs": [],
   "source": [
    "#  Get the indices of cities that have humidity over 100%.\n"
   ]
  },
  {
   "cell_type": "code",
   "execution_count": 70,
   "metadata": {},
   "outputs": [
    {
     "data": {
      "text/html": [
       "<div>\n",
       "<style scoped>\n",
       "    .dataframe tbody tr th:only-of-type {\n",
       "        vertical-align: middle;\n",
       "    }\n",
       "\n",
       "    .dataframe tbody tr th {\n",
       "        vertical-align: top;\n",
       "    }\n",
       "\n",
       "    .dataframe thead th {\n",
       "        text-align: right;\n",
       "    }\n",
       "</style>\n",
       "<table border=\"1\" class=\"dataframe\">\n",
       "  <thead>\n",
       "    <tr style=\"text-align: right;\">\n",
       "      <th></th>\n",
       "      <th>City Name</th>\n",
       "      <th>City Number</th>\n",
       "      <th>Latitude</th>\n",
       "      <th>Temperature</th>\n",
       "      <th>Humidity</th>\n",
       "      <th>Cloudiness</th>\n",
       "      <th>Wind Speed</th>\n",
       "    </tr>\n",
       "  </thead>\n",
       "  <tbody>\n",
       "    <tr>\n",
       "      <th>0</th>\n",
       "      <td>Mehamn</td>\n",
       "      <td>778707</td>\n",
       "      <td>71.0357</td>\n",
       "      <td>44.17</td>\n",
       "      <td>86</td>\n",
       "      <td>100</td>\n",
       "      <td>20.33</td>\n",
       "    </tr>\n",
       "    <tr>\n",
       "      <th>1</th>\n",
       "      <td>Bredasdorp</td>\n",
       "      <td>1015776</td>\n",
       "      <td>-34.5322</td>\n",
       "      <td>45.72</td>\n",
       "      <td>71</td>\n",
       "      <td>98</td>\n",
       "      <td>6.91</td>\n",
       "    </tr>\n",
       "    <tr>\n",
       "      <th>2</th>\n",
       "      <td>Ushuaia</td>\n",
       "      <td>3833367</td>\n",
       "      <td>-54.8000</td>\n",
       "      <td>37.06</td>\n",
       "      <td>65</td>\n",
       "      <td>90</td>\n",
       "      <td>6.91</td>\n",
       "    </tr>\n",
       "    <tr>\n",
       "      <th>3</th>\n",
       "      <td>Ponta Delgada</td>\n",
       "      <td>3372783</td>\n",
       "      <td>37.7333</td>\n",
       "      <td>66.92</td>\n",
       "      <td>82</td>\n",
       "      <td>20</td>\n",
       "      <td>3.44</td>\n",
       "    </tr>\n",
       "    <tr>\n",
       "      <th>4</th>\n",
       "      <td>Yellowknife</td>\n",
       "      <td>6185377</td>\n",
       "      <td>62.4560</td>\n",
       "      <td>70.92</td>\n",
       "      <td>60</td>\n",
       "      <td>75</td>\n",
       "      <td>1.01</td>\n",
       "    </tr>\n",
       "  </tbody>\n",
       "</table>\n",
       "</div>"
      ],
      "text/plain": [
       "       City Name  City Number  Latitude  Temperature  Humidity  Cloudiness  \\\n",
       "0         Mehamn       778707   71.0357        44.17        86         100   \n",
       "1     Bredasdorp      1015776  -34.5322        45.72        71          98   \n",
       "2        Ushuaia      3833367  -54.8000        37.06        65          90   \n",
       "3  Ponta Delgada      3372783   37.7333        66.92        82          20   \n",
       "4    Yellowknife      6185377   62.4560        70.92        60          75   \n",
       "\n",
       "   Wind Speed  \n",
       "0       20.33  \n",
       "1        6.91  \n",
       "2        6.91  \n",
       "3        3.44  \n",
       "4        1.01  "
      ]
     },
     "execution_count": 70,
     "metadata": {},
     "output_type": "execute_result"
    }
   ],
   "source": [
    "# Make a new DataFrame equal to the city data to drop all humidity outliers by index.\n",
    "# Passing \"inplace=False\" will make a copy of the city_data DataFrame, which we call \"clean_city_data\".\n",
    "weather_df.head()"
   ]
  },
  {
   "cell_type": "markdown",
   "metadata": {},
   "source": [
    "## Plotting the Data\n",
    "* Use proper labeling of the plots using plot titles (including date of analysis) and axes labels.\n",
    "* Save the plotted figures as .pngs."
   ]
  },
  {
   "cell_type": "markdown",
   "metadata": {},
   "source": [
    "## Latitude vs. Temperature Plot"
   ]
  },
  {
   "cell_type": "code",
   "execution_count": 15,
   "metadata": {
    "scrolled": true
   },
   "outputs": [
    {
     "data": {
      "image/png": "[encoded data removed]",
      "text/plain": [
       "<Figure size 432x288 with 1 Axes>"
      ]
     },
     "metadata": {
      "needs_background": "light"
     },
     "output_type": "display_data"
    }
   ],
   "source": [
    "# Build a scatter plot for each data type\n",
    "plt.scatter(weather_df[\"Latitude\"], weather_df[\"Temperature\"], marker=\"o\")\n",
    "\n",
    "# Incorporate the other graph properties\n",
    "plt.title(\"Latitude vs Temperature\")\n",
    "plt.ylabel(\"Temperature (F)\")\n",
    "plt.xlabel(\"Latitude\")\n",
    "plt.grid(True)\n",
    "\n",
    "# Save the figure\n",
    "plt.savefig(\"Lat_vs_temp_plot\")\n",
    "\n",
    "# Show plot\n",
    "plt.show()"
   ]
  },
  {
   "cell_type": "markdown",
   "metadata": {},
   "source": [
    "## Latitude vs. Humidity Plot"
   ]
  },
  {
   "cell_type": "code",
   "execution_count": 16,
   "metadata": {},
   "outputs": [
    {
     "data": {
      "image/png": "[encoded data removed]",
      "text/plain": [
       "<Figure size 432x288 with 1 Axes>"
      ]
     },
     "metadata": {
      "needs_background": "light"
     },
     "output_type": "display_data"
    }
   ],
   "source": [
    "plt.scatter(weather_df[\"Latitude\"], weather_df[\"Humidity\"], marker=\"o\")\n",
    "\n",
    "# Incorporate the other graph properties\n",
    "plt.title(\"Latitude vs Humidity\")\n",
    "plt.ylabel(\"Humidity %\")\n",
    "plt.xlabel(\"Latitude\")\n",
    "plt.grid(True)\n",
    "\n",
    "# Save the figure\n",
    "plt.savefig(\"Lat_vs_humidity_plot\")\n",
    "\n",
    "# Show plot\n",
    "plt.show()"
   ]
  },
  {
   "cell_type": "markdown",
   "metadata": {},
   "source": [
    "## Latitude vs. Cloudiness Plot"
   ]
  },
  {
   "cell_type": "code",
   "execution_count": 17,
   "metadata": {},
   "outputs": [
    {
     "data": {
      "image/png": "[encoded data removed]",
      "text/plain": [
       "<Figure size 432x288 with 1 Axes>"
      ]
     },
     "metadata": {
      "needs_background": "light"
     },
     "output_type": "display_data"
    }
   ],
   "source": [
    "plt.scatter(weather_df[\"Latitude\"], weather_df[\"Cloudiness\"], marker=\"o\")\n",
    "\n",
    "# Incorporate the other graph properties\n",
    "plt.title(\"Latitude vs Cloudiness\")\n",
    "plt.ylabel(\"Cloudiness %\")\n",
    "plt.xlabel(\"Latitude\")\n",
    "plt.grid(True)\n",
    "\n",
    "# Save the figure\n",
    "plt.savefig(\"Lat_vs_cloudiness_plot\")\n",
    "\n",
    "# Show plot\n",
    "plt.show()"
   ]
  },
  {
   "cell_type": "markdown",
   "metadata": {},
   "source": [
    "## Latitude vs. Wind Speed Plot"
   ]
  },
  {
   "cell_type": "code",
   "execution_count": 18,
   "metadata": {},
   "outputs": [
    {
     "data": {
      "image/png": "[encoded data removed]",
      "text/plain": [
       "<Figure size 432x288 with 1 Axes>"
      ]
     },
     "metadata": {
      "needs_background": "light"
     },
     "output_type": "display_data"
    }
   ],
   "source": [
    "plt.scatter(weather_df[\"Latitude\"], weather_df[\"Wind Speed\"], marker=\"o\")\n",
    "\n",
    "# Incorporate the other graph properties\n",
    "plt.title(\"Latitude vs Wind Speed\")\n",
    "plt.ylabel(\"Wind Speed (mph)\")\n",
    "plt.xlabel(\"Latitude\")\n",
    "plt.grid(True)\n",
    "\n",
    "# Save the figure\n",
    "plt.savefig(\"Lat_vs_windspeed_plot\")\n",
    "\n",
    "# Show plot\n",
    "plt.show()"
   ]
  },
  {
   "cell_type": "markdown",
   "metadata": {},
   "source": [
    "## Linear Regression"
   ]
  },
  {
   "cell_type": "code",
   "execution_count": 14,
   "metadata": {},
   "outputs": [
    {
     "name": "stdout",
     "output_type": "stream",
     "text": [
      "                  City Name  City Number  Longitude  Latitude  Temperature  \\\n",
      "3            Saint-Philippe       935215    55.7679  -21.3585        67.59   \n",
      "4                   Guarujá      3461789   -46.2564  -23.9931        78.73   \n",
      "5               New Norfolk      2155415   147.0587  -42.7826        41.58   \n",
      "7                     Bluff      2206939   168.3333  -46.6000        47.80   \n",
      "9                  Hermanus      3366880    19.2345  -34.4187        61.90   \n",
      "..                      ...          ...        ...       ...          ...   \n",
      "530                 Chicama      3698359   -79.1469   -7.8447        68.54   \n",
      "535                Menongue      3347353    17.6910  -14.6585        57.72   \n",
      "540  Santa Isabel Rio Negro      3662489   -65.0192   -0.4139        81.05   \n",
      "543              Launceston      2160517   147.1667  -41.4500        36.81   \n",
      "547                  Kiunga      2093846   141.2906   -6.1219        71.51   \n",
      "\n",
      "     Humidity  Cloudiness  Wind Speed  \n",
      "3          77          29       11.59  \n",
      "4          41           0        1.01  \n",
      "5          69          63        3.00  \n",
      "7          87         100        6.17  \n",
      "9          54         100        9.86  \n",
      "..        ...         ...         ...  \n",
      "530        61          11       10.74  \n",
      "535        41           0        6.11  \n",
      "540        85          99        2.84  \n",
      "543        93          90        3.00  \n",
      "547       100         100        3.20  \n",
      "\n",
      "[166 rows x 8 columns]\n",
      "388\n"
     ]
    }
   ],
   "source": [
    "# Northern Hemisphere (greater than or equal to 0 degrees latitude) and Southern Hemisphere (less than 0 degrees latitude):\n",
    "north_df = weather_df.loc[weather_df['Latitude'] >= 0]\n",
    "south_df = weather_df.loc[weather_df['Latitude'] < 0]\n",
    "print(south_df)\n",
    "print(len(north_df))"
   ]
  },
  {
   "cell_type": "markdown",
   "metadata": {},
   "source": [
    "####  Northern Hemisphere - Max Temp vs. Latitude Linear Regression"
   ]
  },
  {
   "cell_type": "code",
   "execution_count": 28,
   "metadata": {},
   "outputs": [
    {
     "name": "stdout",
     "output_type": "stream",
     "text": [
      "The correlation between both factors is -0.7\n"
     ]
    },
    {
     "data": {
      "image/png": "[encoded data removed]",
      "text/plain": [
       "<Figure size 432x288 with 1 Axes>"
      ]
     },
     "metadata": {
      "needs_background": "light"
     },
     "output_type": "display_data"
    }
   ],
   "source": [
    "x_values = north_df['Latitude']\n",
    "y_values = north_df['Temperature']\n",
    "(slope, intercept, rvalue, pvalue, stderr) = linregress(x_values, y_values)\n",
    "regress_values = x_values * slope + intercept\n",
    "line_eq = \"y = \" + str(round(slope,2)) + \"x + \" + str(round(intercept,2))\n",
    "plt.scatter(x_values,y_values)\n",
    "plt.plot(x_values,regress_values,\"r-\")\n",
    "plt.annotate(line_eq,(4,10),fontsize=15,color=\"red\")\n",
    "plt.xlabel('Northern Hemisphere Latitude')\n",
    "plt.ylabel('Temperature')\n",
    "correlation = st.pearsonr(x_values, y_values)\n",
    "print(f\"The correlation between both factors is {round(correlation[0],2)}\")\n",
    "plt.show()"
   ]
  },
  {
   "cell_type": "markdown",
   "metadata": {},
   "source": [
    "####  Southern Hemisphere - Max Temp vs. Latitude Linear Regression"
   ]
  },
  {
   "cell_type": "code",
   "execution_count": 29,
   "metadata": {},
   "outputs": [
    {
     "name": "stdout",
     "output_type": "stream",
     "text": [
      "The correlation between both factors is 0.75\n"
     ]
    },
    {
     "data": {
      "image/png": "[encoded data removed]",
      "text/plain": [
       "<Figure size 432x288 with 1 Axes>"
      ]
     },
     "metadata": {
      "needs_background": "light"
     },
     "output_type": "display_data"
    }
   ],
   "source": [
    "x_values = south_df['Latitude']\n",
    "y_values = south_df['Temperature']\n",
    "(slope, intercept, rvalue, pvalue, stderr) = linregress(x_values, y_values)\n",
    "regress_values = x_values * slope + intercept\n",
    "line_eq = \"y = \" + str(round(slope,2)) + \"x + \" + str(round(intercept,2))\n",
    "plt.scatter(x_values,y_values)\n",
    "plt.plot(x_values,regress_values,\"r-\")\n",
    "plt.annotate(line_eq,(4,10),fontsize=15,color=\"red\")\n",
    "plt.xlabel('Southern Hemisphere Latitude')\n",
    "plt.ylabel('Temperature')\n",
    "correlation = st.pearsonr(x_values, y_values)\n",
    "print(f\"The correlation between both factors is {round(correlation[0],2)}\")\n",
    "plt.show()"
   ]
  },
  {
   "cell_type": "markdown",
   "metadata": {},
   "source": [
    "####  Northern Hemisphere - Humidity (%) vs. Latitude Linear Regression"
   ]
  },
  {
   "cell_type": "code",
   "execution_count": 30,
   "metadata": {},
   "outputs": [
    {
     "name": "stdout",
     "output_type": "stream",
     "text": [
      "The correlation between both factors is 0.09\n"
     ]
    },
    {
     "data": {
      "image/png": "[encoded data removed]",
      "text/plain": [
       "<Figure size 432x288 with 1 Axes>"
      ]
     },
     "metadata": {
      "needs_background": "light"
     },
     "output_type": "display_data"
    }
   ],
   "source": [
    "x_values = north_df['Latitude']\n",
    "y_values = north_df['Humidity']\n",
    "(slope, intercept, rvalue, pvalue, stderr) = linregress(x_values, y_values)\n",
    "regress_values = x_values * slope + intercept\n",
    "line_eq = \"y = \" + str(round(slope,2)) + \"x + \" + str(round(intercept,2))\n",
    "plt.scatter(x_values,y_values)\n",
    "plt.plot(x_values,regress_values,\"r-\")\n",
    "plt.annotate(line_eq,(6,10),fontsize=15,color=\"red\")\n",
    "plt.xlabel('Northern Hemisphere Latitude')\n",
    "plt.ylabel('Humidity %')\n",
    "correlation = st.pearsonr(x_values, y_values)\n",
    "print(f\"The correlation between both factors is {round(correlation[0],2)}\")\n",
    "plt.show()"
   ]
  },
  {
   "cell_type": "markdown",
   "metadata": {},
   "source": [
    "####  Southern Hemisphere - Humidity (%) vs. Latitude Linear Regression"
   ]
  },
  {
   "cell_type": "code",
   "execution_count": 31,
   "metadata": {},
   "outputs": [
    {
     "name": "stdout",
     "output_type": "stream",
     "text": [
      "The correlation between both factors is -0.09\n"
     ]
    },
    {
     "data": {
      "image/png": "[encoded data removed]",
      "text/plain": [
       "<Figure size 432x288 with 1 Axes>"
      ]
     },
     "metadata": {
      "needs_background": "light"
     },
     "output_type": "display_data"
    }
   ],
   "source": [
    "x_values = south_df['Latitude']\n",
    "y_values = south_df['Humidity']\n",
    "(slope, intercept, rvalue, pvalue, stderr) = linregress(x_values, y_values)\n",
    "regress_values = x_values * slope + intercept\n",
    "line_eq = \"y = \" + str(round(slope,2)) + \"x + \" + str(round(intercept,2))\n",
    "plt.scatter(x_values,y_values)\n",
    "plt.plot(x_values,regress_values,\"r-\")\n",
    "plt.annotate(line_eq,(6,10),fontsize=15,color=\"red\")\n",
    "plt.xlabel('Southern Hemisphere Latitude')\n",
    "plt.ylabel('Humidity %')\n",
    "correlation = st.pearsonr(x_values, y_values)\n",
    "print(f\"The correlation between both factors is {round(correlation[0],2)}\")\n",
    "plt.show()"
   ]
  },
  {
   "cell_type": "markdown",
   "metadata": {},
   "source": [
    "####  Northern Hemisphere - Cloudiness (%) vs. Latitude Linear Regression"
   ]
  },
  {
   "cell_type": "code",
   "execution_count": 32,
   "metadata": {},
   "outputs": [
    {
     "name": "stdout",
     "output_type": "stream",
     "text": [
      "The correlation between both factors is 0.02\n"
     ]
    },
    {
     "data": {
      "image/png": "[encoded data removed]",
      "text/plain": [
       "<Figure size 432x288 with 1 Axes>"
      ]
     },
     "metadata": {
      "needs_background": "light"
     },
     "output_type": "display_data"
    }
   ],
   "source": [
    "x_values = north_df['Latitude']\n",
    "y_values = north_df['Cloudiness']\n",
    "(slope, intercept, rvalue, pvalue, stderr) = linregress(x_values, y_values)\n",
    "regress_values = x_values * slope + intercept\n",
    "line_eq = \"y = \" + str(round(slope,2)) + \"x + \" + str(round(intercept,2))\n",
    "plt.scatter(x_values,y_values)\n",
    "plt.plot(x_values,regress_values,\"r-\")\n",
    "plt.annotate(line_eq,(6,10),fontsize=15,color=\"red\")\n",
    "plt.xlabel('Northern Hemisphere Latitude')\n",
    "plt.ylabel('Cloudiness %')\n",
    "correlation = st.pearsonr(x_values, y_values)\n",
    "print(f\"The correlation between both factors is {round(correlation[0],2)}\")\n",
    "plt.show()"
   ]
  },
  {
   "cell_type": "markdown",
   "metadata": {},
   "source": [
    "####  Southern Hemisphere - Cloudiness (%) vs. Latitude Linear Regression"
   ]
  },
  {
   "cell_type": "code",
   "execution_count": 33,
   "metadata": {},
   "outputs": [
    {
     "name": "stdout",
     "output_type": "stream",
     "text": [
      "The correlation between both factors is -0.08\n"
     ]
    },
    {
     "data": {
      "image/png": "[encoded data removed]",
      "text/plain": [
       "<Figure size 432x288 with 1 Axes>"
      ]
     },
     "metadata": {
      "needs_background": "light"
     },
     "output_type": "display_data"
    }
   ],
   "source": [
    "x_values = south_df['Latitude']\n",
    "y_values = south_df['Cloudiness']\n",
    "(slope, intercept, rvalue, pvalue, stderr) = linregress(x_values, y_values)\n",
    "regress_values = x_values * slope + intercept\n",
    "line_eq = \"y = \" + str(round(slope,2)) + \"x + \" + str(round(intercept,2))\n",
    "plt.scatter(x_values,y_values)\n",
    "plt.plot(x_values,regress_values,\"r-\")\n",
    "plt.annotate(line_eq,(6,10),fontsize=15,color=\"red\")\n",
    "plt.xlabel('Southern Hemisphere Latitude')\n",
    "plt.ylabel('Cloudiness %')\n",
    "correlation = st.pearsonr(x_values, y_values)\n",
    "print(f\"The correlation between both factors is {round(correlation[0],2)}\")\n",
    "plt.show()"
   ]
  },
  {
   "cell_type": "markdown",
   "metadata": {},
   "source": [
    "####  Northern Hemisphere - Wind Speed (mph) vs. Latitude Linear Regression"
   ]
  },
  {
   "cell_type": "code",
   "execution_count": 34,
   "metadata": {},
   "outputs": [
    {
     "name": "stdout",
     "output_type": "stream",
     "text": [
      "The correlation between both factors is -0.02\n"
     ]
    },
    {
     "data": {
      "image/png": "[encoded data removed]",
      "text/plain": [
       "<Figure size 432x288 with 1 Axes>"
      ]
     },
     "metadata": {
      "needs_background": "light"
     },
     "output_type": "display_data"
    }
   ],
   "source": [
    "x_values = north_df['Latitude']\n",
    "y_values = north_df['Wind Speed']\n",
    "(slope, intercept, rvalue, pvalue, stderr) = linregress(x_values, y_values)\n",
    "regress_values = x_values * slope + intercept\n",
    "line_eq = \"y = \" + str(round(slope,2)) + \"x + \" + str(round(intercept,2))\n",
    "plt.scatter(x_values,y_values)\n",
    "plt.plot(x_values,regress_values,\"r-\")\n",
    "plt.annotate(line_eq,(6,10),fontsize=15,color=\"red\")\n",
    "plt.xlabel('Northern Hemisphere Latitude')\n",
    "plt.ylabel('Wind Speed (mph)')\n",
    "correlation = st.pearsonr(x_values, y_values)\n",
    "print(f\"The correlation between both factors is {round(correlation[0],2)}\")\n",
    "plt.show()"
   ]
  },
  {
   "cell_type": "markdown",
   "metadata": {},
   "source": [
    "####  Southern Hemisphere - Wind Speed (mph) vs. Latitude Linear Regression"
   ]
  },
  {
   "cell_type": "code",
   "execution_count": 35,
   "metadata": {},
   "outputs": [
    {
     "name": "stdout",
     "output_type": "stream",
     "text": [
      "The correlation between both factors is -0.32\n"
     ]
    },
    {
     "data": {
      "image/png": "[encoded data removed]",
      "text/plain": [
       "<Figure size 432x288 with 1 Axes>"
      ]
     },
     "metadata": {
      "needs_background": "light"
     },
     "output_type": "display_data"
    }
   ],
   "source": [
    "x_values = south_df['Latitude']\n",
    "y_values = south_df['Wind Speed']\n",
    "(slope, intercept, rvalue, pvalue, stderr) = linregress(x_values, y_values)\n",
    "regress_values = x_values * slope + intercept\n",
    "line_eq = \"y = \" + str(round(slope,2)) + \"x + \" + str(round(intercept,2))\n",
    "plt.scatter(x_values,y_values)\n",
    "plt.plot(x_values,regress_values,\"r-\")\n",
    "plt.annotate(line_eq,(6,10),fontsize=15,color=\"red\")\n",
    "plt.xlabel('Southern Hemisphere Latitude')\n",
    "plt.ylabel('Wind Speed (mph)')\n",
    "correlation = st.pearsonr(x_values, y_values)\n",
    "print(f\"The correlation between both factors is {round(correlation[0],2)}\")\n",
    "plt.show()"
   ]
  },
  {
   "cell_type": "code",
   "execution_count": null,
   "metadata": {},
   "outputs": [],
   "source": []
  }
 ],
 "metadata": {
  "anaconda-cloud": {},
  "kernel_info": {
   "name": "python3"
  },
  "kernelspec": {
   "display_name": "Python 3",
   "language": "python",
   "name": "python3"
  },
  "language_info": {
   "codemirror_mode": {
    "name": "ipython",
    "version": 3
   },
   "file_extension": ".py",
   "mimetype": "text/x-python",
   "name": "python",
   "nbconvert_exporter": "python",
   "pygments_lexer": "ipython3",
   "version": "3.8.8"
  },
  "latex_envs": {
   "LaTeX_envs_menu_present": true,
   "autoclose": false,
   "autocomplete": true,
   "bibliofile": "biblio.bib",
   "cite_by": "apalike",
   "current_citInitial": 1,
   "eqLabelWithNumbers": true,
   "eqNumInitial": 1,
   "hotkeys": {
    "equation": "Ctrl-E",
    "itemize": "Ctrl-I"
   },
   "labels_anchors": false,
   "latex_user_defs": false,
   "report_style_numbering": false,
   "user_envs_cfg": false
  },
  "nteract": {
   "version": "0.12.3"
  }
 },
 "nbformat": 4,
 "nbformat_minor": 4
}
